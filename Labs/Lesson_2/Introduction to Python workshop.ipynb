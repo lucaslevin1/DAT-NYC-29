{
 "cells": [
  {
   "cell_type": "markdown",
   "metadata": {},
   "source": [
    "## Introduction to Python workshop"
   ]
  },
  {
   "cell_type": "markdown",
   "metadata": {},
   "source": [
    "###### Define a list of numbers 50 to 100 (inclusive)"
   ]
  },
  {
   "cell_type": "code",
   "execution_count": null,
   "metadata": {
    "collapsed": false
   },
   "outputs": [],
   "source": []
  },
  {
   "cell_type": "markdown",
   "metadata": {},
   "source": [
    "###### Loop through each number and print it out"
   ]
  },
  {
   "cell_type": "code",
   "execution_count": null,
   "metadata": {
    "collapsed": false
   },
   "outputs": [],
   "source": []
  },
  {
   "cell_type": "markdown",
   "metadata": {},
   "source": [
    "###### Modify the list so that each element is 5 times what it was originally"
   ]
  },
  {
   "cell_type": "code",
   "execution_count": null,
   "metadata": {
    "collapsed": true
   },
   "outputs": [],
   "source": []
  },
  {
   "cell_type": "markdown",
   "metadata": {},
   "source": [
    "###### Loop through each element and print out every 6th one"
   ]
  },
  {
   "cell_type": "code",
   "execution_count": null,
   "metadata": {
    "collapsed": true
   },
   "outputs": [],
   "source": []
  },
  {
   "cell_type": "markdown",
   "metadata": {},
   "source": [
    "###### Loop through each element in the list and print out every 6th one using enumerate"
   ]
  },
  {
   "cell_type": "code",
   "execution_count": null,
   "metadata": {
    "collapsed": true
   },
   "outputs": [],
   "source": []
  },
  {
   "cell_type": "markdown",
   "metadata": {},
   "source": [
    "###### You have a list below. Check if \"blue\" is in the list. If it is print out \"yes\", else, print out \"no\""
   ]
  },
  {
   "cell_type": "code",
   "execution_count": null,
   "metadata": {
    "collapsed": true
   },
   "outputs": [],
   "source": [
    "l = [\"yellow\", \"orange\", \"blue\", \"green\", \"red\", 'purple', 'pink', 'maroon', 'black']"
   ]
  },
  {
   "cell_type": "code",
   "execution_count": null,
   "metadata": {
    "collapsed": false
   },
   "outputs": [],
   "source": []
  },
  {
   "cell_type": "markdown",
   "metadata": {},
   "source": [
    "###### Sort the list in reverse"
   ]
  },
  {
   "cell_type": "code",
   "execution_count": null,
   "metadata": {
    "collapsed": true
   },
   "outputs": [],
   "source": []
  },
  {
   "cell_type": "markdown",
   "metadata": {},
   "source": [
    "###### You have a dictionary below that contains entrees, and their prices. Print out the price of duck using two methods: get() and [ ] . Then add chicken to the menu"
   ]
  },
  {
   "cell_type": "code",
   "execution_count": null,
   "metadata": {
    "collapsed": true
   },
   "outputs": [],
   "source": [
    "menu = {'pasta': 19.99, \n",
    "        'soup': 7.99, \n",
    "        'crabcakes': 45.99, \n",
    "        'steak': 88.99, \n",
    "        'duck': 27.77}"
   ]
  },
  {
   "cell_type": "code",
   "execution_count": null,
   "metadata": {
    "collapsed": true
   },
   "outputs": [],
   "source": []
  },
  {
   "cell_type": "markdown",
   "metadata": {},
   "source": [
    "###### Create a function that takes a number as a paramter and returns the square root of it. To get the squareroot function, import the library math"
   ]
  },
  {
   "cell_type": "code",
   "execution_count": null,
   "metadata": {
    "collapsed": true
   },
   "outputs": [],
   "source": []
  },
  {
   "cell_type": "markdown",
   "metadata": {},
   "source": [
    "###### Create a list that contains the square roots from 1 to 100"
   ]
  },
  {
   "cell_type": "code",
   "execution_count": null,
   "metadata": {
    "collapsed": true
   },
   "outputs": [],
   "source": []
  },
  {
   "cell_type": "markdown",
   "metadata": {},
   "source": [
    "Lists and dictionaries are great! However, they are often (relatively) slow to work with. One of the reasons is that they accept any kind of data: strings, objects, anything. If you know the kind of data you'll be working with you can use a library called numpy. "
   ]
  },
  {
   "cell_type": "markdown",
   "metadata": {},
   "source": [
    "###### Try and import the library numpy and call it np"
   ]
  },
  {
   "cell_type": "code",
   "execution_count": null,
   "metadata": {
    "collapsed": true
   },
   "outputs": [],
   "source": []
  },
  {
   "cell_type": "markdown",
   "metadata": {},
   "source": [
    "###### Create a range of number from 0 to 100 and call it `arr` (using arange())"
   ]
  },
  {
   "cell_type": "code",
   "execution_count": null,
   "metadata": {
    "collapsed": true
   },
   "outputs": [],
   "source": []
  },
  {
   "cell_type": "markdown",
   "metadata": {},
   "source": [
    "###### Multiply the array by 5. Do you see what you can do with numpy, but not with regular python lists?"
   ]
  },
  {
   "cell_type": "code",
   "execution_count": null,
   "metadata": {
    "collapsed": true
   },
   "outputs": [],
   "source": []
  },
  {
   "cell_type": "markdown",
   "metadata": {},
   "source": [
    "IPython has some functions called magic functions. These are special ipython functions that do cool things. One of them is called timeit, and it times how long certain functions processes take. "
   ]
  },
  {
   "cell_type": "code",
   "execution_count": null,
   "metadata": {
    "collapsed": false
   },
   "outputs": [],
   "source": [
    "l1 = range(1000)\n",
    "l2 = range(1000,0,-1)\n",
    "\n",
    "a = np.arange(1000)\n",
    "b = np.arange(1000,0,-1)"
   ]
  },
  {
   "cell_type": "code",
   "execution_count": null,
   "metadata": {
    "collapsed": false
   },
   "outputs": [],
   "source": [
    "%%timeit \n",
    "total_sum = 0\n",
    "for x in l1:\n",
    "    for y in l2:\n",
    "        total_sum+= x**2 + y**2"
   ]
  },
  {
   "cell_type": "code",
   "execution_count": null,
   "metadata": {
    "collapsed": false
   },
   "outputs": [],
   "source": [
    "%%timeit\n",
    "total_sum = 0\n",
    "total_sum = (a+b)**2"
   ]
  },
  {
   "cell_type": "markdown",
   "metadata": {},
   "source": [
    "###### LTV (Life time value): You work for a subscription company, and your customers pay $8 on a monthly basis. Every month, you lose 10% of your customers, so by the end of month 10, you have no customers left. What is the value of your customer?\n",
    "Hint: use np.arange\n",
    "\n",
    "Bonus: do this in one line of code"
   ]
  },
  {
   "cell_type": "code",
   "execution_count": null,
   "metadata": {
    "collapsed": false
   },
   "outputs": [],
   "source": []
  },
  {
   "cell_type": "markdown",
   "metadata": {},
   "source": [
    "###### Let's make this a bit more difficult. In reality, you actually lose your customers more slowly. For every consecutive period in time, you really only lose 10% of the CURRENT customer base now, not 10% of the total customer base. So, while during your first month you have all of your customers, and your second month you have 90% of your customers, your third month you actually have 81% of your customers (as compared to 80% in the problem before). What is the average life time value value of your customer?"
   ]
  },
  {
   "cell_type": "code",
   "execution_count": null,
   "metadata": {
    "collapsed": false
   },
   "outputs": [],
   "source": []
  },
  {
   "cell_type": "markdown",
   "metadata": {},
   "source": [
    "###### Now, let's chart your retention curves. To do this you need to run three commands:\n",
    "    1) %matplotlib inline\n",
    "    2) import matplotlib.pyplot as plt\n",
    "    3) plt.plot(your_data)"
   ]
  },
  {
   "cell_type": "markdown",
   "metadata": {},
   "source": [
    "###### DIFFICULTY LEVEL: Nearly impossible. This is just to stretch your minds if you somehow made it to this problem in the amount of time alotted. \n",
    "###### -There is a time value of money. Imagine I live in a world where, if I'm given some cash, I can invest it for 5% a month. So, if someone asks to borrow `$100` from me for a month, how much should I charge them in return and expect back? If I only asked for the `$100` back, I would have lost the extra `$5` I would have made from investing. So really, I need to ask them for `$105` back. \n",
    "\n",
    "###### So here's your problem. Every company, especially startups, do have a time value for money (If two customer have the same LTV, but one pays most of it upfront while the other pays most of it later on, i'd prefer the customer who pays most of it upfront). Assume you work for a startup and the CFO tells you the time value of money (also called the discount rate) is 2% a month. What is the average value of your customer now?"
   ]
  },
  {
   "cell_type": "code",
   "execution_count": null,
   "metadata": {
    "collapsed": true
   },
   "outputs": [],
   "source": []
  }
 ],
 "metadata": {
  "kernelspec": {
   "display_name": "Python 2",
   "language": "python",
   "name": "python2"
  },
  "language_info": {
   "codemirror_mode": {
    "name": "ipython",
    "version": 2
   },
   "file_extension": ".py",
   "mimetype": "text/x-python",
   "name": "python",
   "nbconvert_exporter": "python",
   "pygments_lexer": "ipython2",
   "version": "2.7.10"
  }
 },
 "nbformat": 4,
 "nbformat_minor": 0
}
